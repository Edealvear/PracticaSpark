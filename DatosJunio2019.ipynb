{
 "cells": [
  {
   "cell_type": "code",
   "execution_count": 1,
   "id": "69f2a2aa",
   "metadata": {},
   "outputs": [
    {
     "name": "stderr",
     "output_type": "stream",
     "text": [
      "23/05/27 15:36:59 WARN Utils: Your hostname, lucia-VirtualBox resolves to a loopback address: 127.0.1.1; using 10.0.2.15 instead (on interface enp0s3)\n",
      "23/05/27 15:36:59 WARN Utils: Set SPARK_LOCAL_IP if you need to bind to another address\n",
      "Setting default log level to \"WARN\".\n",
      "To adjust logging level use sc.setLogLevel(newLevel). For SparkR, use setLogLevel(newLevel).\n",
      "23/05/27 15:37:02 WARN NativeCodeLoader: Unable to load native-hadoop library for your platform... using builtin-java classes where applicable\n"
     ]
    },
    {
     "name": "stdout",
     "output_type": "stream",
     "text": [
      "AAA\n"
     ]
    }
   ],
   "source": [
    "from pyspark import SparkContext, RDD\n",
    "import json\n",
    "import matplotlib.pyplot as plt\n",
    "\n",
    "sc = SparkContext()\n",
    "print(\"AAA\")"
   ]
  },
  {
   "cell_type": "code",
   "execution_count": 2,
   "id": "6c3861b8",
   "metadata": {},
   "outputs": [
    {
     "name": "stdout",
     "output_type": "stream",
     "text": [
      "{ \"_id\" : { \"$oid\" : \"5cf83b752f3843a016be4e2f\" }, \"user_day_code\" : \"e4d55deb9ac172a8d8f5f0a32599815bd51b7c8760d67e42b11adf7c0829341b\", \"idplug_base\" : 21, \"user_type\" : 1, \"idunplug_base\" : 8, \"travel_time\" : 219, \"idunplug_station\" : 90, \"ageRange\" : 0, \"idplug_station\" : 66, \"unplug_hourTime\" : { \"$date\" : \"2019-06-01T00:00:00.000+0200\" }, \"zip_code\" : \"\" }\r",
      "\r\n",
      "{ \"_id\" : { \"$oid\" : \"5cf83b762f3843a016be4e48\" }, \"user_day_code\" : \"8a0c4123e924a50a958f51985eb71aea750fb072438035f149283490cc6bfaf4\", \"idplug_base\" : 19, \"user_type\" : 1, \"idunplug_base\" : 19, \"travel_time\" : 359, \"idunplug_station\" : 71, \"ageRange\" : 4, \"idplug_station\" : 136, \"unplug_hourTime\" : { \"$date\" : \"2019-06-01T00:00:00.000+0200\" }, \"zip_code\" : \"28039\" }\r",
      "\r\n",
      "{ \"_id\" : { \"$oid\" : \"5cf83b762f3843a016be4e4f\" }, \"user_day_code\" : \"a6a9c1f74a68496000542210abc4fc2eba79e2756ad5355a626632f7783dd418\", \"idplug_base\" : 17, \"user_type\" : 1, \"idunplug_base\" : 7, \"travel_time\" : 375, \"idunplug_station\" : 39, \"ageRange\" : 4, \"idplug_station\" : 38, \"unplug_hourTime\" : { \"$date\" : \"2019-06-01T00:00:00.000+0200\" }, \"zip_code\" : \"28013\" }\r",
      "\r\n",
      "{ \"_id\" : { \"$oid\" : \"5cf83b762f3843a016be4e53\" }, \"user_day_code\" : \"5706c0bd494acc02279d532821c9666b0e506d4f81c838ef3147b2e0abbe7156\", \"idplug_base\" : 4, \"user_type\" : 1, \"idunplug_base\" : 21, \"travel_time\" : 264, \"idunplug_station\" : 66, \"ageRange\" : 5, \"idplug_station\" : 90, \"unplug_hourTime\" : { \"$date\" : \"2019-06-01T00:00:00.000+0200\" }, \"zip_code\" : \"28009\" }\r",
      "\r\n",
      "{ \"_id\" : { \"$oid\" : \"5cf83b762f3843a016be4e54\" }, \"user_day_code\" : \"eb1b6d32bd4add5d5ff91af72a38786d61075c090383a53882f33b0801eb0079\", \"idplug_base\" : 3, \"user_type\" : 1, \"idunplug_base\" : 13, \"travel_time\" : 367, \"idunplug_station\" : 152, \"ageRange\" : 4, \"idplug_station\" : 166, \"unplug_hourTime\" : { \"$date\" : \"2019-06-01T00:00:00.000+0200\" }, \"zip_code\" : \"28006\" }\r",
      "\r\n",
      "{ \"_id\" : { \"$oid\" : \"5cf83b762f3843a016be4e56\" }, \"user_day_code\" : \"c2905f6038aa9523da6bc3222c63c2ec3269c69281bf34eac161eed1ae2ba5f4\", \"idplug_base\" : 14, \"user_type\" : 1, \"idunplug_base\" : 4, \"travel_time\" : 174, \"idunplug_station\" : 55, \"ageRange\" : 5, \"idplug_station\" : 53, \"unplug_hourTime\" : { \"$date\" : \"2019-06-01T00:00:00.000+0200\" }, \"zip_code\" : \"28907\" }\r",
      "\r\n",
      "{ \"_id\" : { \"$oid\" : \"5cf83b762f3843a016be4e59\" }, \"user_day_code\" : \"f94420744ea060ac42ef3901cb251bb5b4ff63033be7bcb96d8764b968912691\", \"idplug_base\" : 2, \"user_type\" : 1, \"idunplug_base\" : 6, \"travel_time\" : 308, \"idunplug_station\" : 133, \"ageRange\" : 0, \"idplug_station\" : 129, \"unplug_hourTime\" : { \"$date\" : \"2019-06-01T00:00:00.000+0200\" }, \"zip_code\" : \"\" }\r",
      "\r\n",
      "{ \"_id\" : { \"$oid\" : \"5cf83b762f3843a016be4e5a\" }, \"user_day_code\" : \"e75471af2ea032a327f636e28b8603c4cddab9155948fca85e82ec2f73c2bd1a\", \"idplug_base\" : 21, \"user_type\" : 1, \"idunplug_base\" : 3, \"travel_time\" : 462, \"idunplug_station\" : 153, \"ageRange\" : 4, \"idplug_station\" : 169, \"unplug_hourTime\" : { \"$date\" : \"2019-06-01T00:00:00.000+0200\" }, \"zip_code\" : \"28003\" }\r",
      "\r\n",
      "{ \"_id\" : { \"$oid\" : \"5cf83b762f3843a016be4e5c\" }, \"user_day_code\" : \"c0d73ee753773a3bfcc1483366a6ee68be9524dafbf65e81d31f4509d73304ac\", \"idplug_base\" : 24, \"user_type\" : 1, \"idunplug_base\" : 14, \"travel_time\" : 482, \"idunplug_station\" : 44, \"ageRange\" : 0, \"idplug_station\" : 129, \"unplug_hourTime\" : { \"$date\" : \"2019-06-01T00:00:00.000+0200\" }, \"zip_code\" : \"\" }\r",
      "\r\n",
      "{ \"_id\" : { \"$oid\" : \"5cf83b762f3843a016be4e61\" }, \"user_day_code\" : \"47ecd557f21ca7aee6235dc015c6eaa7cea5e99e3aa8fbdfac8a308bb093f552\", \"idplug_base\" : 11, \"user_type\" : 1, \"idunplug_base\" : 21, \"travel_time\" : 480, \"idunplug_station\" : 85, \"ageRange\" : 4, \"idplug_station\" : 133, \"unplug_hourTime\" : { \"$date\" : \"2019-06-01T00:00:00.000+0200\" }, \"zip_code\" : \"28004\" }\r",
      "\r\n"
     ]
    }
   ],
   "source": [
    "!head -10 201906_Usage_Bicimad.json"
   ]
  },
  {
   "cell_type": "code",
   "execution_count": 3,
   "id": "61a0e8db",
   "metadata": {},
   "outputs": [],
   "source": [
    "rdd = sc.textFile(\"201906_Usage_Bicimad.json\")"
   ]
  },
  {
   "cell_type": "code",
   "execution_count": null,
   "id": "09a03cdf",
   "metadata": {},
   "outputs": [],
   "source": []
  }
 ],
 "metadata": {
  "kernelspec": {
   "display_name": "Python 3 (ipykernel)",
   "language": "python",
   "name": "python3"
  },
  "language_info": {
   "codemirror_mode": {
    "name": "ipython",
    "version": 3
   },
   "file_extension": ".py",
   "mimetype": "text/x-python",
   "name": "python",
   "nbconvert_exporter": "python",
   "pygments_lexer": "ipython3",
   "version": "3.10.6"
  }
 },
 "nbformat": 4,
 "nbformat_minor": 5
}
