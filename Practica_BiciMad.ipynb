{
 "cells": [
  {
   "cell_type": "code",
   "execution_count": 1,
   "id": "1839a425",
   "metadata": {},
   "outputs": [
    {
     "name": "stderr",
     "output_type": "stream",
     "text": [
      "23/05/28 22:11:08 WARN Utils: Your hostname, enriqueVB resolves to a loopback address: 127.0.1.1; using 10.0.2.15 instead (on interface enp0s3)\n",
      "23/05/28 22:11:08 WARN Utils: Set SPARK_LOCAL_IP if you need to bind to another address\n",
      "Setting default log level to \"WARN\".\n",
      "To adjust logging level use sc.setLogLevel(newLevel). For SparkR, use setLogLevel(newLevel).\n",
      "23/05/28 22:11:23 WARN NativeCodeLoader: Unable to load native-hadoop library for your platform... using builtin-java classes where applicable\n"
     ]
    }
   ],
   "source": [
    "from pyspark import SparkContext, RDD\n",
    "import json\n",
    "import matplotlib.pyplot as plt\n",
    "\n",
    "sc = SparkContext()"
   ]
  },
  {
   "cell_type": "code",
   "execution_count": null,
   "id": "5794bcaa",
   "metadata": {},
   "outputs": [],
   "source": []
  },
  {
   "cell_type": "code",
   "execution_count": 2,
   "id": "4609370a",
   "metadata": {},
   "outputs": [
    {
     "name": "stderr",
     "output_type": "stream",
     "text": [
      "                                                                                \r"
     ]
    },
    {
     "data": {
      "text/plain": [
       "['{ \"_id\" : { \"$oid\" : \"5d193180a9cd6441ac491781\" }, \"user_day_code\" : \"a2859c578a940a5b6f9697d37bbb60887b59668b74f4abb3640db9eab8ecced8\", \"idplug_base\" : 3, \"user_type\" : 1, \"idunplug_base\" : 19, \"travel_time\" : 301, \"idunplug_station\" : 30, \"ageRange\" : 5, \"idplug_station\" : 130, \"unplug_hourTime\" : { \"$date\" : \"2019-06-26T23:00:00.000+0200\" }, \"zip_code\" : \"28010\" }',\n",
       " '{ \"_id\" : { \"$oid\" : \"5d193180a9cd6441ac491780\" }, \"user_day_code\" : \"a155966b8f5dfaeaac34612d902eab89b8dc590df6b9e9ca8b7888ed067e2290\", \"idplug_base\" : 6, \"user_type\" : 1, \"idunplug_base\" : 6, \"travel_time\" : 2199, \"idunplug_station\" : 35, \"ageRange\" : 0, \"idplug_station\" : 2, \"unplug_hourTime\" : { \"$date\" : \"2019-06-26T23:00:00.000+0200\" }, \"zip_code\" : \"\" }']"
      ]
     },
     "execution_count": 2,
     "metadata": {},
     "output_type": "execute_result"
    }
   ],
   "source": [
    "rdd = sc.textFile(\"201906_Usage_Bicimad.json\")\n",
    "rdd.top(2)"
   ]
  },
  {
   "cell_type": "code",
   "execution_count": null,
   "id": "5808c593",
   "metadata": {},
   "outputs": [],
   "source": []
  },
  {
   "cell_type": "code",
   "execution_count": 3,
   "id": "dce3d5b8",
   "metadata": {},
   "outputs": [],
   "source": [
    "def get_stations(line):\n",
    "    data = json.loads(line)\n",
    "    salida = data[\"idunplug_station\"]\n",
    "    entrada = data[\"idplug_station\"]\n",
    "    user = data[\"user_type\"]\n",
    "    franja_horaria = data[\"unplug_hourTime\"][\"$date\"]\n",
    "    return salida, entrada, user,franja_horaria\n",
    "#Filtramos los usuarios, quedándonos con los de tipo 0 y 1 y eliminamos los trayectos que\n",
    "#tienen por entrada y salida la misma estación\n",
    "rdd1 = rdd.map(get_stations).filter(lambda x: x[2]<=1).filter(lambda x: x[0]!=x[1]) \n",
    "\n"
   ]
  },
  {
   "cell_type": "code",
   "execution_count": 4,
   "id": "89b332a5",
   "metadata": {},
   "outputs": [
    {
     "name": "stderr",
     "output_type": "stream",
     "text": [
      "                                                                                \r"
     ]
    },
    {
     "data": {
      "text/plain": [
       "[((207, 213), 1), ((207, 213), 1), ((207, 213), 1), ((207, 213), 1)]"
      ]
     },
     "execution_count": 4,
     "metadata": {},
     "output_type": "execute_result"
    }
   ],
   "source": [
    "#Eliminamos los trayectos que tienen por entrada y salida la misma estación y \n",
    "#guardamos en rdd2 la tupla de los trayectos ordenada,1.\n",
    "rdd2 = rdd1.map(lambda x: ((min(x[0],x[1]),max(x[0],x[1])),1)) \n",
    "\n",
    "rdd2.top(4)"
   ]
  },
  {
   "cell_type": "code",
   "execution_count": 5,
   "id": "b52cd436",
   "metadata": {},
   "outputs": [
    {
     "name": "stderr",
     "output_type": "stream",
     "text": [
      "                                                                                \r"
     ]
    },
    {
     "name": "stdout",
     "output_type": "stream",
     "text": [
      "((9, 149), 490)\n"
     ]
    },
    {
     "name": "stderr",
     "output_type": "stream",
     "text": [
      "                                                                                \r"
     ]
    },
    {
     "data": {
      "text/plain": [
       "[((207, 213), 7),\n",
       " ((207, 211), 6),\n",
       " ((201, 207), 1),\n",
       " ((200, 213), 1),\n",
       " ((200, 211), 5)]"
      ]
     },
     "execution_count": 5,
     "metadata": {},
     "output_type": "execute_result"
    }
   ],
   "source": [
    "rdd3 = rdd2.groupByKey().map(lambda x: (x[0], len(x[1])))\n",
    "print(rdd3.max(key = (lambda x: x[1])))\n",
    "rdd3.top(5)"
   ]
  },
  {
   "cell_type": "code",
   "execution_count": 6,
   "id": "b0cfa4e2",
   "metadata": {
    "scrolled": false
   },
   "outputs": [
    {
     "name": "stderr",
     "output_type": "stream",
     "text": [
      "                                                                                \r"
     ]
    }
   ],
   "source": [
    "lista_ordenados = rdd3.sortBy(lambda x : x[1]).collect()\n",
    "lista_ordenados.reverse()\n",
    "#lista_ordenados"
   ]
  },
  {
   "cell_type": "code",
   "execution_count": 7,
   "id": "9dbb1dc6",
   "metadata": {},
   "outputs": [
    {
     "data": {
      "text/plain": [
       "100"
      ]
     },
     "execution_count": 7,
     "metadata": {},
     "output_type": "execute_result"
    }
   ],
   "source": [
    "lista_100mejores = lista_ordenados[:100]\n",
    "len(lista_100mejores)\n",
    "#lista_100mejores"
   ]
  },
  {
   "cell_type": "code",
   "execution_count": 11,
   "id": "e4e6228e",
   "metadata": {},
   "outputs": [
    {
     "name": "stderr",
     "output_type": "stream",
     "text": [
      "                                                                                \r"
     ]
    },
    {
     "data": {
      "text/plain": [
       "[('2019-06-26T23:00:00.000+0200', (172, 174)),\n",
       " ('2019-06-26T23:00:00.000+0200', (172, 174)),\n",
       " ('2019-06-26T23:00:00.000+0200', (172, 173)),\n",
       " ('2019-06-26T23:00:00.000+0200', (172, 173)),\n",
       " ('2019-06-26T23:00:00.000+0200', (169, 200))]"
      ]
     },
     "execution_count": 11,
     "metadata": {},
     "output_type": "execute_result"
    }
   ],
   "source": [
    "rdd4 = rdd1.map(lambda x: (x[3],(min(x[0],x[1]),max(x[0],x[1]))))\n",
    "rdd4.top(5)"
   ]
  },
  {
   "cell_type": "code",
   "execution_count": 12,
   "id": "ded1058a",
   "metadata": {},
   "outputs": [
    {
     "name": "stderr",
     "output_type": "stream",
     "text": [
      "                                                                                \r"
     ]
    },
    {
     "data": {
      "text/plain": [
       "[('2019-06-26T23:00:00.000+0200', (164, 171)),\n",
       " ('2019-06-26T23:00:00.000+0200', (164, 171)),\n",
       " ('2019-06-26T23:00:00.000+0200', (164, 171)),\n",
       " ('2019-06-26T23:00:00.000+0200', (164, 171)),\n",
       " ('2019-06-26T23:00:00.000+0200', (164, 171))]"
      ]
     },
     "execution_count": 12,
     "metadata": {},
     "output_type": "execute_result"
    }
   ],
   "source": [
    "mejores_trayectos = [x[0] for x in lista_100mejores]\n",
    "rdd5 = rdd4.filter(lambda x : x[1] in mejores_trayectos)\n",
    "rdd5.top(5)\n"
   ]
  },
  {
   "cell_type": "code",
   "execution_count": 19,
   "id": "16ef4072",
   "metadata": {},
   "outputs": [
    {
     "name": "stderr",
     "output_type": "stream",
     "text": [
      "                                                                                \r"
     ]
    },
    {
     "data": {
      "text/plain": [
       "[(((169, 170), '23:00:00.000+0200'), 9),\n",
       " (((169, 170), '22:00:00.000+0200'), 2),\n",
       " (((169, 170), '21:00:00.000+0200'), 13),\n",
       " (((169, 170), '20:00:00.000+0200'), 19),\n",
       " (((169, 170), '19:00:00.000+0200'), 25)]"
      ]
     },
     "execution_count": 19,
     "metadata": {},
     "output_type": "execute_result"
    }
   ],
   "source": [
    "rdd6 = rdd5.map(lambda x: ((x[1], x[0].split(\"T\")[1]),1)).groupByKey().map(lambda x: (x[0] ,len(x[1])))\n",
    "\n",
    "rdd6.top(5)"
   ]
  },
  {
   "cell_type": "code",
   "execution_count": 22,
   "id": "d42c7acd",
   "metadata": {},
   "outputs": [
    {
     "name": "stderr",
     "output_type": "stream",
     "text": [
      "                                                                                \r"
     ]
    },
    {
     "data": {
      "text/plain": [
       "[((169, 170), (27, '10:00:00.000+0200')),\n",
       " ((164, 171), (48, '10:00:00.000+0200')),\n",
       " ((163, 170), (23, '20:00:00.000+0200'))]"
      ]
     },
     "execution_count": 22,
     "metadata": {},
     "output_type": "execute_result"
    }
   ],
   "source": [
    "rdd7 = rdd6.map(lambda x: (x[0][0],(x[1],x[0][1]))).groupByKey().map(lambda x: (x[0],max(list(x[1]))))\n",
    "rdd7.top() "
   ]
  },
  {
   "cell_type": "code",
   "execution_count": 24,
   "id": "758fc54d",
   "metadata": {},
   "outputs": [
    {
     "name": "stderr",
     "output_type": "stream",
     "text": [
      "[Stage 40:================================================>       (12 + 1) / 14]\r"
     ]
    },
    {
     "name": "stdout",
     "output_type": "stream",
     "text": [
      "[((9, 157), (35, '21:00:00.000+0200')), ((42, 132), (22, '00:00:00.000+0200')), ((9, 163), (60, '08:00:00.000+0200')), ((25, 175), (25, '18:00:00.000+0200')), ((13, 149), (20, '19:00:00.000+0200')), ((64, 90), (40, '08:00:00.000+0200')), ((38, 135), (18, '16:00:00.000+0200')), ((129, 134), (32, '20:00:00.000+0200')), ((50, 135), (23, '20:00:00.000+0200')), ((149, 164), (21, '09:00:00.000+0200')), ((160, 161), (29, '16:00:00.000+0200')), ((134, 135), (24, '19:00:00.000+0200')), ((149, 161), (22, '19:00:00.000+0200')), ((145, 161), (48, '08:00:00.000+0200')), ((19, 163), (40, '08:00:00.000+0200')), ((59, 131), (24, '00:00:00.000+0200')), ((64, 84), (38, '08:00:00.000+0200')), ((129, 175), (34, '19:00:00.000+0200')), ((42, 57), (24, '19:00:00.000+0200')), ((73, 90), (35, '09:00:00.000+0200')), ((59, 168), (24, '20:00:00.000+0200')), ((42, 135), (32, '16:00:00.000+0200')), ((149, 160), (22, '19:00:00.000+0200')), ((169, 170), (27, '10:00:00.000+0200')), ((65, 84), (30, '07:00:00.000+0200')), ((157, 163), (55, '14:00:00.000+0200')), ((57, 135), (32, '20:00:00.000+0200')), ((78, 86), (22, '09:00:00.000+0200')), ((45, 129), (25, '18:00:00.000+0200')), ((59, 163), (23, '18:00:00.000+0200')), ((49, 175), (19, '21:00:00.000+0200')), ((19, 55), (37, '09:00:00.000+0200')), ((130, 156), (36, '09:00:00.000+0200')), ((48, 129), (29, '07:00:00.000+0200')), ((130, 157), (29, '19:00:00.000+0200')), ((118, 163), (31, '19:00:00.000+0200')), ((58, 149), (41, '20:00:00.000+0200')), ((42, 175), (34, '17:00:00.000+0200')), ((163, 166), (17, '20:00:00.000+0200')), ((139, 163), (27, '19:00:00.000+0200')), ((49, 135), (45, '14:00:00.000+0200')), ((78, 90), (24, '09:00:00.000+0200')), ((149, 169), (41, '15:00:00.000+0200')), ((135, 175), (39, '08:00:00.000+0200')), ((27, 175), (41, '19:00:00.000+0200')), ((139, 145), (26, '19:00:00.000+0200')), ((1, 41), (20, '18:00:00.000+0200')), ((57, 129), (29, '20:00:00.000+0200')), ((49, 55), (18, '00:00:00.000+0200')), ((57, 128), (29, '21:00:00.000+0200')), ((139, 154), (48, '08:00:00.000+0200')), ((163, 170), (23, '20:00:00.000+0200')), ((26, 175), (36, '19:00:00.000+0200')), ((149, 168), (30, '14:00:00.000+0200')), ((129, 135), (35, '19:00:00.000+0200')), ((49, 129), (31, '19:00:00.000+0200')), ((139, 149), (26, '21:00:00.000+0200')), ((59, 149), (23, '19:00:00.000+0200')), ((64, 78), (58, '07:00:00.000+0200')), ((90, 166), (22, '21:00:00.000+0200')), ((52, 135), (29, '21:00:00.000+0200')), ((19, 90), (20, '16:00:00.000+0200')), ((38, 57), (32, '20:00:00.000+0200')), ((64, 79), (20, '16:00:00.000+0200')), ((130, 149), (69, '18:00:00.000+0200')), ((74, 79), (25, '15:00:00.000+0200')), ((79, 90), (31, '09:00:00.000+0200')), ((26, 57), (27, '17:00:00.000+0200')), ((49, 128), (21, '18:00:00.000+0200')), ((56, 175), (33, '18:00:00.000+0200')), ((58, 157), (25, '19:00:00.000+0200')), ((26, 42), (21, '21:00:00.000+0200')), ((83, 115), (45, '16:00:00.000+0200')), ((9, 149), (89, '18:00:00.000+0200')), ((153, 163), (38, '19:00:00.000+0200')), ((86, 90), (28, '09:00:00.000+0200')), ((1, 175), (37, '19:00:00.000+0200')), ((47, 129), (48, '16:00:00.000+0200')), ((57, 136), (17, '21:00:00.000+0200')), ((30, 157), (39, '09:00:00.000+0200')), ((38, 129), (22, '20:00:00.000+0200')), ((164, 171), (48, '10:00:00.000+0200')), ((132, 135), (48, '19:00:00.000+0200')), ((132, 174), (37, '09:00:00.000+0200')), ((129, 133), (23, '18:00:00.000+0200')), ((84, 90), (34, '08:00:00.000+0200')), ((133, 135), (25, '08:00:00.000+0200')), ((118, 168), (21, '08:00:00.000+0200')), ((149, 163), (43, '20:00:00.000+0200')), ((19, 161), (35, '23:00:00.000+0200')), ((45, 135), (21, '23:00:00.000+0200')), ((83, 90), (21, '22:00:00.000+0200')), ((160, 163), (29, '18:00:00.000+0200')), ((13, 160), (32, '14:00:00.000+0200')), ((6, 149), (24, '19:00:00.000+0200')), ((38, 175), (30, '19:00:00.000+0200')), ((132, 175), (42, '18:00:00.000+0200')), ((74, 83), (22, '21:00:00.000+0200')), ((30, 163), (41, '09:00:00.000+0200')), ((162, 163), (31, '18:00:00.000+0200'))]\n"
     ]
    },
    {
     "name": "stderr",
     "output_type": "stream",
     "text": [
      "\r",
      "[Stage 40:====================================================>   (13 + 1) / 14]\r",
      "\r",
      "                                                                                \r"
     ]
    }
   ],
   "source": [
    "listaResultados = rdd7.collect()\n",
    "print(listaResultados)"
   ]
  },
  {
   "cell_type": "markdown",
   "id": "870ed35f",
   "metadata": {},
   "source": [
    "Con esto obtenemos los mejores trayectos, el número de veces que se realiza y las mejores horas de cada uno de esos trayectos, que es lo que queríamos "
   ]
  }
 ],
 "metadata": {
  "kernelspec": {
   "display_name": "Python 3 (ipykernel)",
   "language": "python",
   "name": "python3"
  },
  "language_info": {
   "codemirror_mode": {
    "name": "ipython",
    "version": 3
   },
   "file_extension": ".py",
   "mimetype": "text/x-python",
   "name": "python",
   "nbconvert_exporter": "python",
   "pygments_lexer": "ipython3",
   "version": "3.10.6"
  }
 },
 "nbformat": 4,
 "nbformat_minor": 5
}
