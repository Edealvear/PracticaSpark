{
 "cells": [
  {
   "cell_type": "code",
   "execution_count": 23,
   "id": "69f2a2aa",
   "metadata": {},
   "outputs": [],
   "source": [
    "from pyspark.sql import SparkSession\n",
    "spark = SparkSession.builder.getOrCreate()"
   ]
  },
  {
   "cell_type": "code",
   "execution_count": 24,
   "id": "6c3861b8",
   "metadata": {},
   "outputs": [
    {
     "name": "stderr",
     "output_type": "stream",
     "text": [
      "                                                                                \r"
     ]
    }
   ],
   "source": [
    "df = spark.read.json('201906_Usage_Bicimad.json')"
   ]
  },
  {
   "cell_type": "code",
   "execution_count": 25,
   "id": "61a0e8db",
   "metadata": {},
   "outputs": [
    {
     "name": "stdout",
     "output_type": "stream",
     "text": [
      "+---------------+--------------------+--------+-----------+--------------+-------------+----------------+-----+-----------+--------------------+--------------------+---------+--------+\n",
      "|_corrupt_record|                 _id|ageRange|idplug_base|idplug_station|idunplug_base|idunplug_station|track|travel_time|     unplug_hourTime|       user_day_code|user_type|zip_code|\n",
      "+---------------+--------------------+--------+-----------+--------------+-------------+----------------+-----+-----------+--------------------+--------------------+---------+--------+\n",
      "|           null|{5cf83b752f3843a0...|       0|         21|            66|            8|              90| null|        219|{2019-06-01T00:00...|e4d55deb9ac172a8d...|        1|        |\n",
      "|           null|{5cf83b762f3843a0...|       4|         19|           136|           19|              71| null|        359|{2019-06-01T00:00...|8a0c4123e924a50a9...|        1|   28039|\n",
      "|           null|{5cf83b762f3843a0...|       4|         17|            38|            7|              39| null|        375|{2019-06-01T00:00...|a6a9c1f74a6849600...|        1|   28013|\n",
      "|           null|{5cf83b762f3843a0...|       5|          4|            90|           21|              66| null|        264|{2019-06-01T00:00...|5706c0bd494acc022...|        1|   28009|\n",
      "|           null|{5cf83b762f3843a0...|       4|          3|           166|           13|             152| null|        367|{2019-06-01T00:00...|eb1b6d32bd4add5d5...|        1|   28006|\n",
      "|           null|{5cf83b762f3843a0...|       5|         14|            53|            4|              55| null|        174|{2019-06-01T00:00...|c2905f6038aa9523d...|        1|   28907|\n",
      "|           null|{5cf83b762f3843a0...|       0|          2|           129|            6|             133| null|        308|{2019-06-01T00:00...|f94420744ea060ac4...|        1|        |\n",
      "|           null|{5cf83b762f3843a0...|       4|         21|           169|            3|             153| null|        462|{2019-06-01T00:00...|e75471af2ea032a32...|        1|   28003|\n",
      "|           null|{5cf83b762f3843a0...|       0|         24|           129|           14|              44| null|        482|{2019-06-01T00:00...|c0d73ee753773a3bf...|        1|        |\n",
      "|           null|{5cf83b762f3843a0...|       4|         11|           133|           21|              85| null|        480|{2019-06-01T00:00...|47ecd557f21ca7aee...|        1|   28004|\n",
      "|           null|{5cf83b762f3843a0...|       5|          2|            83|           18|              31| null|        546|{2019-06-01T00:00...|87ccc3f59b45ef261...|        1|   28007|\n",
      "|           null|{5cf83b762f3843a0...|       0|          7|            53|           15|              38| null|        519|{2019-06-01T00:00...|05bd8e0842cbfadb8...|        1|        |\n",
      "|           null|{5cf83b762f3843a0...|       4|         24|            13|           17|             118| null|        374|{2019-06-01T00:00...|812870450df33ac5c...|        1|   39316|\n",
      "|           null|{5cf83b762f3843a0...|       4|         13|            10|            9|              27| null|        188|{2019-06-01T00:00...|c828f824a86378bf0...|        1|   28012|\n",
      "|           null|{5cf83b762f3843a0...|       4|          2|            74|           20|              90| null|        133|{2019-06-01T00:00...|538fc94c0d298f7ee...|        1|   28045|\n",
      "|           null|{5cf83b762f3843a0...|       0|         17|            54|           21|             100| null|        514|{2019-06-01T00:00...|53a9f79ec4c6d60c2...|        1|        |\n",
      "|           null|{5cf83b762f3843a0...|       4|         12|            83|            5|              67| null|        517|{2019-06-01T00:00...|b27886fecd2db0f3c...|        1|   28008|\n",
      "|           null|{5cf83b762f3843a0...|       4|          5|            83|            3|              67| null|        525|{2019-06-01T00:00...|eee03ef92db2fe559...|        1|   28019|\n",
      "|           null|{5cf83b762f3843a0...|       0|          9|           163|            5|              63| null|        351|{2019-06-01T00:00...|b61ef9ebd0342c431...|        1|        |\n",
      "|           null|{5cf83b762f3843a0...|       0|         22|            84|            7|              42| null|        483|{2019-06-01T00:00...|01bf069d0732b2b01...|        1|        |\n",
      "+---------------+--------------------+--------+-----------+--------------+-------------+----------------+-----+-----------+--------------------+--------------------+---------+--------+\n",
      "only showing top 20 rows\n",
      "\n"
     ]
    },
    {
     "name": "stderr",
     "output_type": "stream",
     "text": [
      "                                                                                \r"
     ]
    },
    {
     "data": {
      "text/plain": [
       "450811"
      ]
     },
     "execution_count": 25,
     "metadata": {},
     "output_type": "execute_result"
    }
   ],
   "source": [
    "df.show()\n",
    "df.count()"
   ]
  },
  {
   "cell_type": "code",
   "execution_count": 27,
   "id": "09a03cdf",
   "metadata": {},
   "outputs": [
    {
     "name": "stdout",
     "output_type": "stream",
     "text": [
      "+---------------+--------------------+--------+--------------+----------------+-----------+---------+--------+\n",
      "|_corrupt_record|                 _id|ageRange|idplug_station|idunplug_station|travel_time|user_type|zip_code|\n",
      "+---------------+--------------------+--------+--------------+----------------+-----------+---------+--------+\n",
      "|           null|{5cf83b752f3843a0...|       0|            66|              90|        219|        1|        |\n",
      "|           null|{5cf83b762f3843a0...|       4|           136|              71|        359|        1|   28039|\n",
      "|           null|{5cf83b762f3843a0...|       4|            38|              39|        375|        1|   28013|\n",
      "|           null|{5cf83b762f3843a0...|       5|            90|              66|        264|        1|   28009|\n",
      "|           null|{5cf83b762f3843a0...|       4|           166|             152|        367|        1|   28006|\n",
      "|           null|{5cf83b762f3843a0...|       5|            53|              55|        174|        1|   28907|\n",
      "|           null|{5cf83b762f3843a0...|       0|           129|             133|        308|        1|        |\n",
      "|           null|{5cf83b762f3843a0...|       4|           169|             153|        462|        1|   28003|\n",
      "|           null|{5cf83b762f3843a0...|       0|           129|              44|        482|        1|        |\n",
      "|           null|{5cf83b762f3843a0...|       4|           133|              85|        480|        1|   28004|\n",
      "|           null|{5cf83b762f3843a0...|       5|            83|              31|        546|        1|   28007|\n",
      "|           null|{5cf83b762f3843a0...|       0|            53|              38|        519|        1|        |\n",
      "|           null|{5cf83b762f3843a0...|       4|            13|             118|        374|        1|   39316|\n",
      "|           null|{5cf83b762f3843a0...|       4|            10|              27|        188|        1|   28012|\n",
      "|           null|{5cf83b762f3843a0...|       4|            74|              90|        133|        1|   28045|\n",
      "|           null|{5cf83b762f3843a0...|       0|            54|             100|        514|        1|        |\n",
      "|           null|{5cf83b762f3843a0...|       4|            83|              67|        517|        1|   28008|\n",
      "|           null|{5cf83b762f3843a0...|       4|            83|              67|        525|        1|   28019|\n",
      "|           null|{5cf83b762f3843a0...|       0|           163|              63|        351|        1|        |\n",
      "|           null|{5cf83b762f3843a0...|       0|            84|              42|        483|        1|        |\n",
      "+---------------+--------------------+--------+--------------+----------------+-----------+---------+--------+\n",
      "only showing top 20 rows\n",
      "\n"
     ]
    }
   ],
   "source": [
    "df = df.drop('user_day_code','unplug_hourTime','idplug_base','idunplug_base','track')\n",
    "df.show()"
   ]
  },
  {
   "cell_type": "code",
   "execution_count": 28,
   "id": "d0f2c22d",
   "metadata": {},
   "outputs": [
    {
     "name": "stdout",
     "output_type": "stream",
     "text": [
      "+---------------+--------------------+--------+--------------+----------------+-----------+---------+--------+\n",
      "|_corrupt_record|                 _id|ageRange|idplug_station|idunplug_station|travel_time|user_type|zip_code|\n",
      "+---------------+--------------------+--------+--------------+----------------+-----------+---------+--------+\n",
      "|           null|{5cf83b752f3843a0...|       0|            66|              90|        219|        1|        |\n",
      "|           null|{5cf83b762f3843a0...|       4|           136|              71|        359|        1|   28039|\n",
      "|           null|{5cf83b762f3843a0...|       4|            38|              39|        375|        1|   28013|\n",
      "|           null|{5cf83b762f3843a0...|       5|            90|              66|        264|        1|   28009|\n",
      "|           null|{5cf83b762f3843a0...|       4|           166|             152|        367|        1|   28006|\n",
      "|           null|{5cf83b762f3843a0...|       5|            53|              55|        174|        1|   28907|\n",
      "|           null|{5cf83b762f3843a0...|       0|           129|             133|        308|        1|        |\n",
      "|           null|{5cf83b762f3843a0...|       4|           169|             153|        462|        1|   28003|\n",
      "|           null|{5cf83b762f3843a0...|       0|           129|              44|        482|        1|        |\n",
      "|           null|{5cf83b762f3843a0...|       4|           133|              85|        480|        1|   28004|\n",
      "|           null|{5cf83b762f3843a0...|       5|            83|              31|        546|        1|   28007|\n",
      "|           null|{5cf83b762f3843a0...|       0|            53|              38|        519|        1|        |\n",
      "|           null|{5cf83b762f3843a0...|       4|            13|             118|        374|        1|   39316|\n",
      "|           null|{5cf83b762f3843a0...|       4|            10|              27|        188|        1|   28012|\n",
      "|           null|{5cf83b762f3843a0...|       4|            74|              90|        133|        1|   28045|\n",
      "|           null|{5cf83b762f3843a0...|       0|            54|             100|        514|        1|        |\n",
      "|           null|{5cf83b762f3843a0...|       4|            83|              67|        517|        1|   28008|\n",
      "|           null|{5cf83b762f3843a0...|       4|            83|              67|        525|        1|   28019|\n",
      "|           null|{5cf83b762f3843a0...|       0|           163|              63|        351|        1|        |\n",
      "|           null|{5cf83b762f3843a0...|       0|            84|              42|        483|        1|        |\n",
      "+---------------+--------------------+--------+--------------+----------------+-----------+---------+--------+\n",
      "only showing top 20 rows\n",
      "\n"
     ]
    },
    {
     "name": "stderr",
     "output_type": "stream",
     "text": [
      "                                                                                \r"
     ]
    },
    {
     "data": {
      "text/plain": [
       "397252"
      ]
     },
     "execution_count": 28,
     "metadata": {},
     "output_type": "execute_result"
    }
   ],
   "source": [
    "df1 = df.filter(df[\"user_type\"]<=1 )\n",
    "df1.show()\n",
    "df1.count()"
   ]
  },
  {
   "cell_type": "code",
   "execution_count": 29,
   "id": "242a7e63",
   "metadata": {},
   "outputs": [
    {
     "name": "stderr",
     "output_type": "stream",
     "text": [
      "[Stage 42:===========================================>              (3 + 1) / 4]\r"
     ]
    },
    {
     "name": "stdout",
     "output_type": "stream",
     "text": [
      "+--------+------+\n",
      "|ageRange| count|\n",
      "+--------+------+\n",
      "|       0|177245|\n",
      "|       6|  2272|\n",
      "|       5| 81198|\n",
      "|       1|   557|\n",
      "|       3| 20756|\n",
      "|       2|  1822|\n",
      "|       4|113402|\n",
      "+--------+------+\n",
      "\n"
     ]
    },
    {
     "name": "stderr",
     "output_type": "stream",
     "text": [
      "                                                                                \r"
     ]
    }
   ],
   "source": [
    "df1.groupBy('ageRange').count().show()\n"
   ]
  },
  {
   "cell_type": "code",
   "execution_count": 40,
   "id": "1d768b61",
   "metadata": {},
   "outputs": [
    {
     "name": "stderr",
     "output_type": "stream",
     "text": [
      "[Stage 72:===========================================>              (3 + 1) / 4]\r"
     ]
    },
    {
     "name": "stdout",
     "output_type": "stream",
     "text": [
      "+--------------------+------------------+\n",
      "|                 _id|trayectos_1sentido|\n",
      "+--------------------+------------------+\n",
      "|{5cf83b752f3843a0...|        [{90, 66}]|\n",
      "|{5cf83b762f3843a0...|       [{71, 136}]|\n",
      "|{5cf83b762f3843a0...|        [{39, 38}]|\n",
      "|{5cf83b762f3843a0...|        [{66, 90}]|\n",
      "|{5cf83b762f3843a0...|      [{152, 166}]|\n",
      "|{5cf83b762f3843a0...|        [{55, 53}]|\n",
      "|{5cf83b762f3843a0...|      [{133, 129}]|\n",
      "|{5cf83b762f3843a0...|      [{153, 169}]|\n",
      "|{5cf83b762f3843a0...|       [{44, 129}]|\n",
      "|{5cf83b762f3843a0...|       [{85, 133}]|\n",
      "|{5cf83b762f3843a0...|        [{31, 83}]|\n",
      "|{5cf83b762f3843a0...|        [{38, 53}]|\n",
      "|{5cf83b762f3843a0...|       [{118, 13}]|\n",
      "|{5cf83b762f3843a0...|        [{27, 10}]|\n",
      "|{5cf83b762f3843a0...|        [{90, 74}]|\n",
      "|{5cf83b762f3843a0...|       [{100, 54}]|\n",
      "|{5cf83b762f3843a0...|        [{67, 83}]|\n",
      "|{5cf83b762f3843a0...|        [{67, 83}]|\n",
      "|{5cf83b762f3843a0...|       [{63, 163}]|\n",
      "|{5cf83b762f3843a0...|        [{42, 84}]|\n",
      "+--------------------+------------------+\n",
      "only showing top 20 rows\n",
      "\n"
     ]
    },
    {
     "name": "stderr",
     "output_type": "stream",
     "text": [
      "                                                                                \r"
     ]
    }
   ],
   "source": [
    "from pyspark.sql.functions import collect_list, struct\n",
    "dfg = df1.groupBy('_id').\\\n",
    "    agg(collect_list(struct('idunplug_station','idplug_station')).alias('trayectos_1sentido'))\n",
    "dfg.show()\n",
    "#realmente necesitamos que en esta primera columna aparezcan los trayectos de froma que la primera coordenada sea la \n",
    "#más pequeña y la segunda la más grande para que cuando hagamos el groupBy no distinga el sentido."
   ]
  },
  {
   "cell_type": "code",
   "execution_count": 41,
   "id": "b93ae2ec",
   "metadata": {},
   "outputs": [
    {
     "name": "stderr",
     "output_type": "stream",
     "text": [
      "[Stage 77:>                                                         (0 + 1) / 1]\r"
     ]
    },
    {
     "name": "stdout",
     "output_type": "stream",
     "text": [
      "+------------------+-----+\n",
      "|trayectos_1sentido|count|\n",
      "+------------------+-----+\n",
      "|       [{21, 109}]|    8|\n",
      "|      [{123, 129}]|   12|\n",
      "|        [{11, 75}]|   23|\n",
      "|       [{171, 60}]|    1|\n",
      "|        [{62, 15}]|   14|\n",
      "|        [{128, 6}]|   18|\n",
      "|        [{49, 84}]|   49|\n",
      "|       [{86, 161}]|   10|\n",
      "|      [{171, 170}]|    9|\n",
      "|       [{83, 162}]|   55|\n",
      "|       [{131, 41}]|   25|\n",
      "|      [{157, 149}]|   61|\n",
      "|        [{89, 83}]|   31|\n",
      "|        [{61, 34}]|    5|\n",
      "|       [{18, 102}]|    7|\n",
      "|        [{82, 81}]|   34|\n",
      "|      [{116, 149}]|   22|\n",
      "|        [{75, 82}]|   21|\n",
      "|       [{98, 172}]|    9|\n",
      "|       [{90, 165}]|   43|\n",
      "+------------------+-----+\n",
      "only showing top 20 rows\n",
      "\n"
     ]
    },
    {
     "name": "stderr",
     "output_type": "stream",
     "text": [
      "                                                                                \r"
     ]
    }
   ],
   "source": [
    "dfg.groupBy('trayectos_1sentido').count().show()"
   ]
  },
  {
   "cell_type": "code",
   "execution_count": null,
   "id": "70830d8b",
   "metadata": {},
   "outputs": [],
   "source": []
  }
 ],
 "metadata": {
  "kernelspec": {
   "display_name": "Python 3 (ipykernel)",
   "language": "python",
   "name": "python3"
  },
  "language_info": {
   "codemirror_mode": {
    "name": "ipython",
    "version": 3
   },
   "file_extension": ".py",
   "mimetype": "text/x-python",
   "name": "python",
   "nbconvert_exporter": "python",
   "pygments_lexer": "ipython3",
   "version": "3.10.6"
  }
 },
 "nbformat": 4,
 "nbformat_minor": 5
}
